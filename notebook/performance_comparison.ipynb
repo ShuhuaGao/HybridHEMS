{
 "cells": [
  {
   "cell_type": "markdown",
   "metadata": {},
   "source": [
    "# Compare the performance of different methods"
   ]
  },
  {
   "cell_type": "code",
   "execution_count": 1,
   "metadata": {},
   "outputs": [
    {
     "name": "stderr",
     "output_type": "stream",
     "text": [
      "┌ Info: Precompiling HEMS [9785a948-c28b-4996-a162-519f7c6893ad]\n",
      "└ @ Base loading.jl:1423\n"
     ]
    }
   ],
   "source": [
    "using DataFrames, CSV, BSON\n",
    "using BSON: @save, @load\n",
    "using Plots, Plots.Measures, StatsPlots\n",
    "using LaTeXStrings\n",
    "using HEMS\n",
    "using Printf\n",
    "using Flux, StatsBase\n",
    "using NPZ\n",
    "using Random\n",
    "using Revise, HEMS\n",
    "\n",
    "Random.seed!(42)\n",
    "ENV[\"COLUMNS\"] = 2000;"
   ]
  },
  {
   "cell_type": "markdown",
   "metadata": {},
   "source": [
    "## Load test scenarios"
   ]
  },
  {
   "cell_type": "code",
   "execution_count": 2,
   "metadata": {},
   "outputs": [
    {
     "data": {
      "text/plain": [
       "\"../model/IL\""
      ]
     },
     "execution_count": 2,
     "metadata": {},
     "output_type": "execute_result"
    }
   ],
   "source": [
    "root_dir = \"../\"\n",
    "scenario_dir = joinpath(root_dir, \"data/learning/scenarios/\")\n",
    "IL_data_dir = joinpath(root_dir, \"data/learning/IL\")\n",
    "MARL_data_dir = joinpath(root_dir, \"data/learning/MARL\")\n",
    "img_dir = joinpath(root_dir, \"img\")\n",
    "IL_model_dir = joinpath(root_dir, \"model/IL\")"
   ]
  },
  {
   "cell_type": "code",
   "execution_count": 3,
   "metadata": {},
   "outputs": [],
   "source": [
    "# home configuration\n",
    "home_dir = joinpath(root_dir, \"data/home/\")\n",
    "const h = read_home_config(joinpath(home_dir, \"home.toml\"));"
   ]
  },
  {
   "cell_type": "code",
   "execution_count": 4,
   "metadata": {},
   "outputs": [
    {
     "name": "stdout",
     "output_type": "stream",
     "text": [
      "n_test = 365\n"
     ]
    },
    {
     "data": {
      "text/plain": [
       "365"
      ]
     },
     "execution_count": 4,
     "metadata": {},
     "output_type": "execute_result"
    }
   ],
   "source": [
    "# each scenario in `ss` contains already the solution of ideal MILP\n",
    "# the solution columns will be replaced by other methods' results later\n",
    "ss = BSON.load(joinpath(IL_data_dir, \"test_ss.bson\"))[:ss]\n",
    "n_test = length(ss)\n",
    "@show n_test"
   ]
  },
  {
   "cell_type": "markdown",
   "metadata": {},
   "source": [
    "## Cost of each method"
   ]
  },
  {
   "cell_type": "markdown",
   "metadata": {},
   "source": [
    "### Ideal MILP\n",
    "Note that the cost has already been computed in \"notebook/IL/IL_data.ipynb\" and stored in the data frames."
   ]
  },
  {
   "cell_type": "code",
   "execution_count": 5,
   "metadata": {},
   "outputs": [],
   "source": [
    "ideal = zeros(n_test)\n",
    "for i = 1:n_test\n",
    "    ideal[i] = sum(ss[i][!, :C])\n",
    "end"
   ]
  },
  {
   "cell_type": "markdown",
   "metadata": {},
   "source": [
    "### Day-ahead MILP"
   ]
  },
  {
   "cell_type": "code",
   "execution_count": 6,
   "metadata": {},
   "outputs": [
    {
     "data": {
      "text/plain": [
       "run_da_MILP"
      ]
     },
     "execution_count": 6,
     "metadata": {},
     "output_type": "execute_result"
    }
   ],
   "source": [
    "\"\"\"\n",
    "    run_da_MILP(s, h) -> Float64\n",
    "\n",
    "Run day-ahead MILP on `s` and get the total cost.\n",
    "\"\"\"\n",
    "function run_da_MILP(s, h)\n",
    "    sda = copy(s)\n",
    "    # inject 10% noises into PV and price as the day-ahead forecasting\n",
    "    T = size(s)[1]\n",
    "    strength = 0.3\n",
    "    sda.PPV .+= randn(T) .* range(0.2, 0.5, T) .* sda.PPV\n",
    "    # do not allow negative PV\n",
    "    replace!(v -> max(v, 0.0), sda.PPV)\n",
    "    sda.ρ .+= randn(T) .* range(0.2, 0.5, T) .* sda.ρ\n",
    "    # do not allow negative price\n",
    "    replace!(v -> max(v, 0.0), sda.ρ)\n",
    "\n",
    "    # run MILP\n",
    "    run_MILP!(sda, h)\n",
    "\n",
    "    # set the true values of PV and price to compute the actual cost\n",
    "    sda.PPV .= s.PPV\n",
    "    sda.ρ .= s.ρ\n",
    "    # compute the cost\n",
    "    return compute_cost!(sda, h)\n",
    "end"
   ]
  },
  {
   "cell_type": "code",
   "execution_count": 7,
   "metadata": {},
   "outputs": [],
   "source": [
    "da = zeros(n_test)\n",
    "for i = 1:n_test\n",
    "    da[i] = run_da_MILP(ss[i], h)\n",
    "end\n"
   ]
  },
  {
   "cell_type": "markdown",
   "metadata": {},
   "source": [
    "### MARL \n",
    "The implementation is in Python. We simply read the results here for visualization."
   ]
  },
  {
   "cell_type": "code",
   "execution_count": 8,
   "metadata": {},
   "outputs": [],
   "source": [
    "ql = npzread(joinpath(MARL_data_dir, \"QL/QLearningTestCostFixed.npy\"))\n",
    "dqn = npzread(joinpath(MARL_data_dir, \"DQN/DQNTestCost.npy\"));"
   ]
  },
  {
   "cell_type": "markdown",
   "metadata": {},
   "source": [
    "### MAIL"
   ]
  },
  {
   "cell_type": "code",
   "execution_count": 9,
   "metadata": {},
   "outputs": [],
   "source": [
    "# agents of shiftable loads\n",
    "@load joinpath(IL_model_dir, \"agents.bson\") agents;"
   ]
  },
  {
   "cell_type": "code",
   "execution_count": 10,
   "metadata": {},
   "outputs": [
    {
     "data": {
      "text/plain": [
       "run_MAIL"
      ]
     },
     "execution_count": 10,
     "metadata": {},
     "output_type": "execute_result"
    }
   ],
   "source": [
    "\"\"\"\n",
    "    run_MAIL(s, h, shift_agents) -> Float64\n",
    "\n",
    "Run MAIL on scenario `s` with home `h` and the shiftable loads' agents `shift_agents`.\n",
    "The total cost is returned.\n",
    "\"\"\"\n",
    "function run_MAIL(s, h, shift_agents)\n",
    "    # first run our hybrid method to get the actions of shiftable loads\n",
    "    sr = manage_loads(s, h, shift_agents)\n",
    "    # set the actions of adjustable loads by certain uncertainty\n",
    "    # note that `s` contains the expert action\n",
    "    T = nrow(s)\n",
    "    strength = 0.2\n",
    "    for l in h[\"AD\"]\n",
    "        id = l[\"id\"]\n",
    "        Pmax, Pmin = l[\"Pmax\"], l[\"Pmin\"]\n",
    "        sr[:, \"P_$id\"] .= s[!, \"P_$id\"] .+ randn(T) .* strength .* s[!, \"P_$id\"]\n",
    "        # enforce the constraint \n",
    "        replace!(v -> max(Pmin, min(v, Pmax)), sr[!, \"P_$id\"])\n",
    "    end\n",
    "    # compute the cost and write necessary columns in `sr` in place\n",
    "    return compute_cost!(sr, h)\n",
    "end"
   ]
  },
  {
   "cell_type": "code",
   "execution_count": 11,
   "metadata": {},
   "outputs": [],
   "source": [
    "mail = zeros(n_test)\n",
    "for i = 1:n_test\n",
    "    mail[i] = run_MAIL(ss[i], h, agents)\n",
    "end"
   ]
  },
  {
   "cell_type": "markdown",
   "metadata": {},
   "source": [
    "### Hybrid method"
   ]
  },
  {
   "cell_type": "code",
   "execution_count": 12,
   "metadata": {},
   "outputs": [],
   "source": [
    "# measure execution time: each scenario has 24 steps\n",
    "total_time = @timed begin\n",
    "    for i = 1:n_test\n",
    "        sh = manage_loads(ss[i], h, agents)\n",
    "    end\n",
    "end\n",
    ";"
   ]
  },
  {
   "cell_type": "code",
   "execution_count": 13,
   "metadata": {},
   "outputs": [
    {
     "name": "stdout",
     "output_type": "stream",
     "text": [
      "Average execution time is 4.921537694063927 ms\n"
     ]
    }
   ],
   "source": [
    "# average execution time of each step \n",
    "exe_time = total_time.time / n_test / nrow(ss[1]) \n",
    "println(\"Average execution time is $(exe_time * 1000) ms\")"
   ]
  },
  {
   "cell_type": "code",
   "execution_count": 14,
   "metadata": {},
   "outputs": [],
   "source": [
    "hybrid = zeros(n_test)\n",
    "for i = 1:n_test\n",
    "    sh = manage_loads(ss[i], h, agents)\n",
    "    hybrid[i] = compute_cost!(sh, h)\n",
    "end"
   ]
  },
  {
   "cell_type": "markdown",
   "metadata": {},
   "source": [
    "## Plot relative cost"
   ]
  },
  {
   "cell_type": "code",
   "execution_count": 15,
   "metadata": {},
   "outputs": [
    {
     "data": {
      "text/plain": [
       "(4.44221363221768, (1.0296096296635464, 16.63010658261841))"
      ]
     },
     "execution_count": 15,
     "metadata": {},
     "output_type": "execute_result"
    }
   ],
   "source": [
    "da_rel = (da .- ideal) ./ ideal * 100\n",
    "mean(da_rel), extrema(da_rel)"
   ]
  },
  {
   "cell_type": "code",
   "execution_count": 16,
   "metadata": {},
   "outputs": [
    {
     "data": {
      "text/plain": [
       "(8.780027363151007, (3.1981458626434147, 24.97384816555136))"
      ]
     },
     "execution_count": 16,
     "metadata": {},
     "output_type": "execute_result"
    }
   ],
   "source": [
    "ql_rel = (ql .- ideal) ./ ideal .* 100\n",
    "mean(ql_rel), extrema(ql_rel)"
   ]
  },
  {
   "cell_type": "code",
   "execution_count": 17,
   "metadata": {},
   "outputs": [
    {
     "data": {
      "text/plain": [
       "(6.368333565791371, (1.0751891269760734, 23.633563783239524))"
      ]
     },
     "execution_count": 17,
     "metadata": {},
     "output_type": "execute_result"
    }
   ],
   "source": [
    "dqn_rel = (dqn .- ideal) ./ ideal .* 100\n",
    "mean(dqn_rel), extrema(dqn_rel)"
   ]
  },
  {
   "cell_type": "code",
   "execution_count": 18,
   "metadata": {},
   "outputs": [
    {
     "data": {
      "text/plain": [
       "(5.780080602962472, (1.5738551142589132, 12.878501566692794))"
      ]
     },
     "execution_count": 18,
     "metadata": {},
     "output_type": "execute_result"
    }
   ],
   "source": [
    "mail_rel = (mail .- ideal) ./ ideal .* 100\n",
    "mean(mail_rel), extrema(mail_rel)"
   ]
  },
  {
   "cell_type": "code",
   "execution_count": 19,
   "metadata": {},
   "outputs": [
    {
     "data": {
      "text/plain": [
       "(1.2771299750922183, (0.0, 6.34630047819378))"
      ]
     },
     "execution_count": 19,
     "metadata": {},
     "output_type": "execute_result"
    }
   ],
   "source": [
    "hybrid_rel = (hybrid .- ideal) ./ ideal .* 100\n",
    "# the extremely small negative value is due to numerical roundoff errors \n",
    "hybrid_rel = max.(hybrid_rel, 0.0)\n",
    "mean(hybrid_rel), extrema(hybrid_rel)"
   ]
  },
  {
   "cell_type": "code",
   "execution_count": 20,
   "metadata": {},
   "outputs": [],
   "source": [
    "default(; labelfontsize = 13, tickfontsize = 11,\n",
    "    framestyle = :box,\n",
    "    margin = 0.5mm,\n",
    "    legendfontsize=11,\n",
    "    legend=false\n",
    ")"
   ]
  },
  {
   "cell_type": "code",
   "execution_count": 22,
   "metadata": {},
   "outputs": [
    {
     "data": {
      "image/png": "[encoded data removed]"
     },
     "execution_count": 22,
     "metadata": {},
     "output_type": "execute_result"
    }
   ],
   "source": [
    "violin(repeat([\"Day-ahead MILP\" \"MAQL\" \"MADQN\" \"MAIL\" \"Hybrid\"],outer=length(n_test)),[da_rel ql_rel dqn_rel mail_rel hybrid_rel]; \n",
    "    size=(650, 240), show_mean=true,\n",
    "    xlabel=\"Method\", ylabel=\"Relative cost (%)\",\n",
    "    bottom_margin=3mm, top_margin=-1mm, left_margin=2mm, right_margin=-1mm,\n",
    "    fmt = :png)\n",
    "savefig(joinpath(img_dir, \"methods.pdf\"))\n",
    "current()"
   ]
  },
  {
   "cell_type": "code",
   "execution_count": null,
   "metadata": {},
   "outputs": [],
   "source": []
  }
 ],
 "metadata": {
  "kernelspec": {
   "display_name": "Julia 1.7.0",
   "language": "julia",
   "name": "julia-1.7"
  },
  "language_info": {
   "file_extension": ".jl",
   "mimetype": "application/julia",
   "name": "julia",
   "version": "1.7.0"
  },
  "orig_nbformat": 4
 },
 "nbformat": 4,
 "nbformat_minor": 2
}
